{
 "cells": [
  {
   "cell_type": "markdown",
   "metadata": {},
   "source": [
    "transform data to lstm data\n",
    "\n",
    "(num_od_samples, num_features) to (num_od_samples, num_timesteps, num_features)\n",
    "\n",
    "(x, 12) to (x, 1, 12)"
   ]
  },
  {
   "cell_type": "code",
   "execution_count": 1,
   "metadata": {},
   "outputs": [],
   "source": [
    "import numpy as np"
   ]
  },
  {
   "cell_type": "code",
   "execution_count": 5,
   "metadata": {},
   "outputs": [],
   "source": [
    "file_depth = '../..'\n",
    "# training_data_path = '/content/drive/MyDrive/DP/1m/training/data/'\n",
    "training_data_path = '/1m/training/data/'\n",
    "# training_data_path_lstm = '/content/drive/MyDrive/DP/1m/training/data/lstm_data/'\n",
    "training_data_path_lstm = '/1m/training/data/lstm_data/'"
   ]
  },
  {
   "cell_type": "code",
   "execution_count": 6,
   "metadata": {},
   "outputs": [],
   "source": [
    "try:\n",
    "  train_data = np.load(file_depth + training_data_path + 'train_data.npy')\n",
    "  val_data = np.load(file_depth + training_data_path + 'val_data.npy')\n",
    "  test_data = np.load(file_depth + training_data_path + 'test_data.npy')\n",
    "  train_target_ratings = np.load(file_depth + training_data_path + 'train_target_ratings.npy')\n",
    "  val_target_ratings = np.load(file_depth + training_data_path + 'val_target_ratings.npy')\n",
    "  test_target_ratings = np.load(file_depth + training_data_path + 'test_target_ratings.npy')\n",
    "\n",
    "except OSError as e:\n",
    "  print('\\nERROR loading training data')\n",
    "  print(e)\n",
    "  quit()"
   ]
  },
  {
   "cell_type": "code",
   "execution_count": 11,
   "metadata": {},
   "outputs": [],
   "source": [
    "time_steps = 1\n",
    "\n",
    "train_data_lstm = np.reshape(train_data, (train_data.shape[0], time_steps, train_data.shape[1]))\n",
    "val_data_lstm = np.reshape(val_data, (val_data.shape[0], time_steps, val_data.shape[1]))\n",
    "test_data_lstm = np.reshape(test_data, (test_data.shape[0], time_steps, test_data.shape[1]))\n",
    "train_target_ratings_lstm = np.reshape(train_target_ratings, (train_target_ratings.shape[0], time_steps))\n",
    "val_target_ratings_lstm = np.reshape(val_target_ratings, (val_target_ratings.shape[0]))\n",
    "test_target_ratings_lstm = np.reshape(test_target_ratings, (test_target_ratings.shape[0]))"
   ]
  },
  {
   "cell_type": "code",
   "execution_count": null,
   "metadata": {},
   "outputs": [],
   "source": [
    "# Save the data to disk\n",
    "np.save(file_depth + training_data_path_lstm + 'train_data_lstm.npy', train_data_lstm)\n",
    "np.save(file_depth + training_data_path_lstm + 'val_data_lstm.npy', val_data_lstm)\n",
    "np.save(file_depth + training_data_path_lstm + 'test_data_lstm.npy', test_data_lstm)\n",
    "np.save(file_depth + training_data_path_lstm + 'train_target_ratings_lstm.npy', train_target_ratings_lstm)\n",
    "np.save(file_depth + training_data_path_lstm + 'val_target_ratings_lstm.npy', val_target_ratings_lstm)\n",
    "np.save(file_depth + training_data_path_lstm + 'test_target_ratings_lstm.npy', test_target_ratings_lstm)"
   ]
  }
 ],
 "metadata": {
  "kernelspec": {
   "display_name": "dp",
   "language": "python",
   "name": "python3"
  },
  "language_info": {
   "codemirror_mode": {
    "name": "ipython",
    "version": 3
   },
   "file_extension": ".py",
   "mimetype": "text/x-python",
   "name": "python",
   "nbconvert_exporter": "python",
   "pygments_lexer": "ipython3",
   "version": "3.10.12"
  },
  "orig_nbformat": 4
 },
 "nbformat": 4,
 "nbformat_minor": 2
}
