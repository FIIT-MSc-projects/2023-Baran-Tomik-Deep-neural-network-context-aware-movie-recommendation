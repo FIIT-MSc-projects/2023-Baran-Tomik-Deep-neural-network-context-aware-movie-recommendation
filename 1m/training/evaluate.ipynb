{
 "cells": [
  {
   "cell_type": "markdown",
   "metadata": {},
   "source": [
    "#### evaluate trained models"
   ]
  },
  {
   "cell_type": "code",
   "execution_count": 2,
   "metadata": {},
   "outputs": [],
   "source": [
    "from keras.models import load_model\n",
    "import pandas as pd\n",
    "import numpy as np"
   ]
  },
  {
   "cell_type": "code",
   "execution_count": 7,
   "metadata": {},
   "outputs": [],
   "source": [
    "checkpoint_model_filepath = 'checkpoints/'\n",
    "\n",
    "training_data_path = 'data/'\n",
    "lstm_training_data_path = 'data/lstm_data/'\n",
    "\n",
    "Dense_run_names = ['arch1_1', 'arch1_lr0.01_1']\n",
    "LSTM_run_names = ['arch2_lstm_1', 'arch2_lstm_lrSchedule_1', 'arch2_lstm_lrSchedule_2', 'arch3_bidir_lstm_lrSchedule_noReLU_1']"
   ]
  },
  {
   "cell_type": "code",
   "execution_count": null,
   "metadata": {},
   "outputs": [],
   "source": [
    "\n"
   ]
  },
  {
   "cell_type": "code",
   "execution_count": 3,
   "metadata": {},
   "outputs": [],
   "source": [
    "def evaluate(run_names, training_data):\n",
    "\n",
    "    try:\n",
    "        test_data = np.load(training_data + 'test_data.npy')\n",
    "        test_target_ratings = np.load(training_data + 'test_target_ratings.npy')\n",
    "    except OSError as e:\n",
    "        print('\\nERROR loading testing data')\n",
    "        print(e)\n",
    "        quit()\n",
    "\n",
    "    for run_name in run_names:\n",
    "        my_model = load_model(checkpoint_model_filepath + run_name + '_checkpoint.h5')\n",
    "        my_model.summary()\n",
    "\n",
    "        print(\"Evaluate on test data\")\n",
    "        test_loss, test_mean_squared_error, test_mean_absolute_error = my_model.evaluate(test_data, test_target_ratings)\n",
    "        print(\"test_loss:\", test_loss)\n",
    "        print(\"test_root_mean_squared_error:\", test_mean_squared_error)\n",
    "        print(\"test_mean_absolute_error:\", test_mean_absolute_error)\n",
    "        print('\\n')\n",
    "\n",
    "        print(\"generate predictions for 10 samples\")\n",
    "        predictions = my_model.predict(test_data)\n",
    "        test_y_comparison = pd.DataFrame({'test_y_true': test_target_ratings, 'test_y_pred': [x for x in predictions]})\n",
    "\n",
    "        print(test_y_comparison.head(10))"
   ]
  },
  {
   "cell_type": "code",
   "execution_count": 1,
   "metadata": {},
   "outputs": [
    {
     "ename": "NameError",
     "evalue": "name 'test_data' is not defined",
     "output_type": "error",
     "traceback": [
      "\u001b[1;31m---------------------------------------------------------------------------\u001b[0m",
      "\u001b[1;31mNameError\u001b[0m                                 Traceback (most recent call last)",
      "\u001b[1;32mc:\\Users\\adamb\\OneDrive - Slovenská technická univerzita v Bratislave\\code\\Python\\DP\\1m\\training\\evaluate.ipynb Cell 6\u001b[0m line \u001b[0;36m1\n\u001b[1;32m----> <a href='vscode-notebook-cell:/c%3A/Users/adamb/OneDrive%20-%20Slovensk%C3%A1%20technick%C3%A1%20univerzita%20v%20Bratislave/code/Python/DP/1m/training/evaluate.ipynb#W6sZmlsZQ%3D%3D?line=0'>1</a>\u001b[0m test_data\n",
      "\u001b[1;31mNameError\u001b[0m: name 'test_data' is not defined"
     ]
    }
   ],
   "source": [
    "test_data"
   ]
  },
  {
   "cell_type": "code",
   "execution_count": 8,
   "metadata": {},
   "outputs": [
    {
     "ename": "UnicodeDecodeError",
     "evalue": "'utf-8' codec can't decode byte 0xe1 in position 38: invalid continuation byte",
     "output_type": "error",
     "traceback": [
      "\u001b[1;31m---------------------------------------------------------------------------\u001b[0m",
      "\u001b[1;31mUnicodeDecodeError\u001b[0m                        Traceback (most recent call last)",
      "\u001b[1;32mc:\\Users\\adamb\\OneDrive - Slovenská technická univerzita v Bratislave\\code\\Python\\DP\\1m\\training\\evaluate.ipynb Cell 6\u001b[0m line \u001b[0;36m1\n\u001b[1;32m----> <a href='vscode-notebook-cell:/c%3A/Users/adamb/OneDrive%20-%20Slovensk%C3%A1%20technick%C3%A1%20univerzita%20v%20Bratislave/code/Python/DP/1m/training/evaluate.ipynb#W6sZmlsZQ%3D%3D?line=0'>1</a>\u001b[0m evaluate(Dense_run_names, training_data_path)\n",
      "\u001b[1;32mc:\\Users\\adamb\\OneDrive - Slovenská technická univerzita v Bratislave\\code\\Python\\DP\\1m\\training\\evaluate.ipynb Cell 6\u001b[0m line \u001b[0;36m1\n\u001b[0;32m      <a href='vscode-notebook-cell:/c%3A/Users/adamb/OneDrive%20-%20Slovensk%C3%A1%20technick%C3%A1%20univerzita%20v%20Bratislave/code/Python/DP/1m/training/evaluate.ipynb#W6sZmlsZQ%3D%3D?line=8'>9</a>\u001b[0m     quit()\n\u001b[0;32m     <a href='vscode-notebook-cell:/c%3A/Users/adamb/OneDrive%20-%20Slovensk%C3%A1%20technick%C3%A1%20univerzita%20v%20Bratislave/code/Python/DP/1m/training/evaluate.ipynb#W6sZmlsZQ%3D%3D?line=10'>11</a>\u001b[0m \u001b[39mfor\u001b[39;00m run_name \u001b[39min\u001b[39;00m run_names:\n\u001b[1;32m---> <a href='vscode-notebook-cell:/c%3A/Users/adamb/OneDrive%20-%20Slovensk%C3%A1%20technick%C3%A1%20univerzita%20v%20Bratislave/code/Python/DP/1m/training/evaluate.ipynb#W6sZmlsZQ%3D%3D?line=11'>12</a>\u001b[0m     my_model \u001b[39m=\u001b[39m load_model(checkpoint_model_filepath \u001b[39m+\u001b[39;49m run_name \u001b[39m+\u001b[39;49m \u001b[39m'\u001b[39;49m\u001b[39m_checkpoint.h5\u001b[39;49m\u001b[39m'\u001b[39;49m)\n\u001b[0;32m     <a href='vscode-notebook-cell:/c%3A/Users/adamb/OneDrive%20-%20Slovensk%C3%A1%20technick%C3%A1%20univerzita%20v%20Bratislave/code/Python/DP/1m/training/evaluate.ipynb#W6sZmlsZQ%3D%3D?line=12'>13</a>\u001b[0m     my_model\u001b[39m.\u001b[39msummary()\n\u001b[0;32m     <a href='vscode-notebook-cell:/c%3A/Users/adamb/OneDrive%20-%20Slovensk%C3%A1%20technick%C3%A1%20univerzita%20v%20Bratislave/code/Python/DP/1m/training/evaluate.ipynb#W6sZmlsZQ%3D%3D?line=14'>15</a>\u001b[0m     \u001b[39mprint\u001b[39m(\u001b[39m\"\u001b[39m\u001b[39mEvaluate on test data\u001b[39m\u001b[39m\"\u001b[39m)\n",
      "File \u001b[1;32md:\\.exe\\miniconda\\envs\\dp\\lib\\site-packages\\keras\\src\\saving\\saving_api.py:262\u001b[0m, in \u001b[0;36mload_model\u001b[1;34m(filepath, custom_objects, compile, safe_mode, **kwargs)\u001b[0m\n\u001b[0;32m    254\u001b[0m     \u001b[39mreturn\u001b[39;00m saving_lib\u001b[39m.\u001b[39mload_model(\n\u001b[0;32m    255\u001b[0m         filepath,\n\u001b[0;32m    256\u001b[0m         custom_objects\u001b[39m=\u001b[39mcustom_objects,\n\u001b[0;32m    257\u001b[0m         \u001b[39mcompile\u001b[39m\u001b[39m=\u001b[39m\u001b[39mcompile\u001b[39m,\n\u001b[0;32m    258\u001b[0m         safe_mode\u001b[39m=\u001b[39msafe_mode,\n\u001b[0;32m    259\u001b[0m     )\n\u001b[0;32m    261\u001b[0m \u001b[39m# Legacy case.\u001b[39;00m\n\u001b[1;32m--> 262\u001b[0m \u001b[39mreturn\u001b[39;00m legacy_sm_saving_lib\u001b[39m.\u001b[39mload_model(\n\u001b[0;32m    263\u001b[0m     filepath, custom_objects\u001b[39m=\u001b[39mcustom_objects, \u001b[39mcompile\u001b[39m\u001b[39m=\u001b[39m\u001b[39mcompile\u001b[39m, \u001b[39m*\u001b[39m\u001b[39m*\u001b[39mkwargs\n\u001b[0;32m    264\u001b[0m )\n",
      "File \u001b[1;32md:\\.exe\\miniconda\\envs\\dp\\lib\\site-packages\\keras\\src\\utils\\traceback_utils.py:70\u001b[0m, in \u001b[0;36mfilter_traceback.<locals>.error_handler\u001b[1;34m(*args, **kwargs)\u001b[0m\n\u001b[0;32m     67\u001b[0m     filtered_tb \u001b[39m=\u001b[39m _process_traceback_frames(e\u001b[39m.\u001b[39m__traceback__)\n\u001b[0;32m     68\u001b[0m     \u001b[39m# To get the full stack trace, call:\u001b[39;00m\n\u001b[0;32m     69\u001b[0m     \u001b[39m# `tf.debugging.disable_traceback_filtering()`\u001b[39;00m\n\u001b[1;32m---> 70\u001b[0m     \u001b[39mraise\u001b[39;00m e\u001b[39m.\u001b[39mwith_traceback(filtered_tb) \u001b[39mfrom\u001b[39;00m \u001b[39mNone\u001b[39;00m\n\u001b[0;32m     71\u001b[0m \u001b[39mfinally\u001b[39;00m:\n\u001b[0;32m     72\u001b[0m     \u001b[39mdel\u001b[39;00m filtered_tb\n",
      "File \u001b[1;32md:\\.exe\\miniconda\\envs\\dp\\lib\\site-packages\\tensorflow\\python\\lib\\io\\file_io.py:703\u001b[0m, in \u001b[0;36mis_directory_v2\u001b[1;34m(path)\u001b[0m\n\u001b[0;32m    694\u001b[0m \u001b[39m\u001b[39m\u001b[39m\"\"\"Returns whether the path is a directory or not.\u001b[39;00m\n\u001b[0;32m    695\u001b[0m \n\u001b[0;32m    696\u001b[0m \u001b[39mArgs:\u001b[39;00m\n\u001b[1;32m   (...)\u001b[0m\n\u001b[0;32m    700\u001b[0m \u001b[39m  True, if the path is a directory; False otherwise\u001b[39;00m\n\u001b[0;32m    701\u001b[0m \u001b[39m\"\"\"\u001b[39;00m\n\u001b[0;32m    702\u001b[0m \u001b[39mtry\u001b[39;00m:\n\u001b[1;32m--> 703\u001b[0m   \u001b[39mreturn\u001b[39;00m _pywrap_file_io\u001b[39m.\u001b[39mIsDirectory(compat\u001b[39m.\u001b[39mpath_to_bytes(path))\n\u001b[0;32m    704\u001b[0m \u001b[39mexcept\u001b[39;00m errors\u001b[39m.\u001b[39mOpError:\n\u001b[0;32m    705\u001b[0m   \u001b[39mreturn\u001b[39;00m \u001b[39mFalse\u001b[39;00m\n",
      "\u001b[1;31mUnicodeDecodeError\u001b[0m: 'utf-8' codec can't decode byte 0xe1 in position 38: invalid continuation byte"
     ]
    }
   ],
   "source": [
    "'1m/training/checkpoints/arch1_1_checkpoint.h5'\n",
    "evaluate(Dense_run_names, training_data_path)"
   ]
  }
 ],
 "metadata": {
  "kernelspec": {
   "display_name": "dp",
   "language": "python",
   "name": "python3"
  },
  "language_info": {
   "codemirror_mode": {
    "name": "ipython",
    "version": 3
   },
   "file_extension": ".py",
   "mimetype": "text/x-python",
   "name": "python",
   "nbconvert_exporter": "python",
   "pygments_lexer": "ipython3",
   "version": "3.10.12"
  },
  "orig_nbformat": 4
 },
 "nbformat": 4,
 "nbformat_minor": 2
}
