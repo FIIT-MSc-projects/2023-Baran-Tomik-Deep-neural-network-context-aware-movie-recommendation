{
 "cells": [
  {
   "cell_type": "code",
   "execution_count": 1,
   "metadata": {},
   "outputs": [],
   "source": [
    "import pandas as pd\n",
    "import numpy as np\n",
    "import json\n",
    "import os"
   ]
  },
  {
   "cell_type": "code",
   "execution_count": 2,
   "metadata": {},
   "outputs": [],
   "source": [
    "target_user_id = 1\n",
    "number_of_top_similarities = 2"
   ]
  },
  {
   "cell_type": "code",
   "execution_count": 3,
   "metadata": {},
   "outputs": [],
   "source": [
    "# depth of this file in the project\n",
    "file_depth = '../..'\n",
    "\n",
    "user_similarities_file = f\"rating_user_data/similarities_to_user_{target_user_id}.json\"\n",
    "save_sets_of_categories_file = 'rating_user_data/sets_of_categories_for_each_user.json'\n",
    "\n",
    "with open(user_similarities_file, 'r') as f:\n",
    "    similarities = json.load(f)\n",
    "\n",
    "with open(save_sets_of_categories_file, 'r') as f:\n",
    "    sets_of_categories = json.load(f)"
   ]
  },
  {
   "cell_type": "code",
   "execution_count": 4,
   "metadata": {},
   "outputs": [
    {
     "data": {
      "text/plain": [
       "0.5477225575051662"
      ]
     },
     "execution_count": 4,
     "metadata": {},
     "output_type": "execute_result"
    }
   ],
   "source": [
    "similarities[0]['2']"
   ]
  },
  {
   "cell_type": "code",
   "execution_count": 5,
   "metadata": {},
   "outputs": [
    {
     "data": {
      "text/plain": [
       "{'Animation': 0,\n",
       " 'ForChildren': 0,\n",
       " 'Comedy': 3,\n",
       " 'Adventure': 0,\n",
       " 'Fantasy': 0,\n",
       " 'Romance': 1,\n",
       " 'Drama': 2,\n",
       " 'Action': 2,\n",
       " 'Crime': 0,\n",
       " 'Thriller': 2,\n",
       " 'Horror': 0,\n",
       " 'Sci-Fi': 1,\n",
       " 'Documentary': 0,\n",
       " 'War': 1,\n",
       " 'Musical': 0,\n",
       " 'Mystery': 0,\n",
       " 'Film-Noir': 0,\n",
       " 'Western': 0}"
      ]
     },
     "execution_count": 5,
     "metadata": {},
     "output_type": "execute_result"
    }
   ],
   "source": [
    "sets_of_categories[0]['2']"
   ]
  },
  {
   "cell_type": "code",
   "execution_count": 6,
   "metadata": {},
   "outputs": [],
   "source": [
    "# load all the splits into a list\n",
    "splits = []\n",
    "\n",
    "for file in os.listdir('rating_user_data/splits/'):\n",
    "    if file.endswith('.csv'):\n",
    "        split = pd.read_csv('rating_user_data/splits/' + file)\n",
    "        splits.append(split)"
   ]
  },
  {
   "cell_type": "code",
   "execution_count": 7,
   "metadata": {},
   "outputs": [
    {
     "data": {
      "text/html": [
       "<div>\n",
       "<style scoped>\n",
       "    .dataframe tbody tr th:only-of-type {\n",
       "        vertical-align: middle;\n",
       "    }\n",
       "\n",
       "    .dataframe tbody tr th {\n",
       "        vertical-align: top;\n",
       "    }\n",
       "\n",
       "    .dataframe thead th {\n",
       "        text-align: right;\n",
       "    }\n",
       "</style>\n",
       "<table border=\"1\" class=\"dataframe\">\n",
       "  <thead>\n",
       "    <tr style=\"text-align: right;\">\n",
       "      <th></th>\n",
       "      <th>user_id</th>\n",
       "      <th>movie_id</th>\n",
       "      <th>rating</th>\n",
       "      <th>timestamp</th>\n",
       "      <th>genres</th>\n",
       "    </tr>\n",
       "  </thead>\n",
       "  <tbody>\n",
       "    <tr>\n",
       "      <th>0</th>\n",
       "      <td>1671</td>\n",
       "      <td>3342</td>\n",
       "      <td>5</td>\n",
       "      <td>974713449</td>\n",
       "      <td>Drama|War</td>\n",
       "    </tr>\n",
       "    <tr>\n",
       "      <th>1</th>\n",
       "      <td>2569</td>\n",
       "      <td>3929</td>\n",
       "      <td>4</td>\n",
       "      <td>973911951</td>\n",
       "      <td>Comedy</td>\n",
       "    </tr>\n",
       "    <tr>\n",
       "      <th>2</th>\n",
       "      <td>3747</td>\n",
       "      <td>1639</td>\n",
       "      <td>4</td>\n",
       "      <td>966138457</td>\n",
       "      <td>Drama|Romance</td>\n",
       "    </tr>\n",
       "    <tr>\n",
       "      <th>3</th>\n",
       "      <td>3821</td>\n",
       "      <td>3702</td>\n",
       "      <td>4</td>\n",
       "      <td>974759703</td>\n",
       "      <td>Action|Sci-Fi</td>\n",
       "    </tr>\n",
       "    <tr>\n",
       "      <th>4</th>\n",
       "      <td>5173</td>\n",
       "      <td>3147</td>\n",
       "      <td>5</td>\n",
       "      <td>961886251</td>\n",
       "      <td>Drama|Thriller</td>\n",
       "    </tr>\n",
       "    <tr>\n",
       "      <th>...</th>\n",
       "      <td>...</td>\n",
       "      <td>...</td>\n",
       "      <td>...</td>\n",
       "      <td>...</td>\n",
       "      <td>...</td>\n",
       "    </tr>\n",
       "    <tr>\n",
       "      <th>47995</th>\n",
       "      <td>1880</td>\n",
       "      <td>1028</td>\n",
       "      <td>4</td>\n",
       "      <td>975384642</td>\n",
       "      <td>ForChildren|Comedy|Musical</td>\n",
       "    </tr>\n",
       "    <tr>\n",
       "      <th>47996</th>\n",
       "      <td>2153</td>\n",
       "      <td>1219</td>\n",
       "      <td>5</td>\n",
       "      <td>974623040</td>\n",
       "      <td>Horror|Thriller</td>\n",
       "    </tr>\n",
       "    <tr>\n",
       "      <th>47997</th>\n",
       "      <td>5767</td>\n",
       "      <td>1580</td>\n",
       "      <td>4</td>\n",
       "      <td>958192067</td>\n",
       "      <td>Action|Adventure|Comedy|Sci-Fi</td>\n",
       "    </tr>\n",
       "    <tr>\n",
       "      <th>47998</th>\n",
       "      <td>4217</td>\n",
       "      <td>2458</td>\n",
       "      <td>4</td>\n",
       "      <td>965319593</td>\n",
       "      <td>Comedy|Crime</td>\n",
       "    </tr>\n",
       "    <tr>\n",
       "      <th>47999</th>\n",
       "      <td>4983</td>\n",
       "      <td>1258</td>\n",
       "      <td>4</td>\n",
       "      <td>962594133</td>\n",
       "      <td>Horror</td>\n",
       "    </tr>\n",
       "  </tbody>\n",
       "</table>\n",
       "<p>48000 rows × 5 columns</p>\n",
       "</div>"
      ],
      "text/plain": [
       "       user_id  movie_id  rating  timestamp                          genres\n",
       "0         1671      3342       5  974713449                       Drama|War\n",
       "1         2569      3929       4  973911951                          Comedy\n",
       "2         3747      1639       4  966138457                   Drama|Romance\n",
       "3         3821      3702       4  974759703                   Action|Sci-Fi\n",
       "4         5173      3147       5  961886251                  Drama|Thriller\n",
       "...        ...       ...     ...        ...                             ...\n",
       "47995     1880      1028       4  975384642      ForChildren|Comedy|Musical\n",
       "47996     2153      1219       5  974623040                 Horror|Thriller\n",
       "47997     5767      1580       4  958192067  Action|Adventure|Comedy|Sci-Fi\n",
       "47998     4217      2458       4  965319593                    Comedy|Crime\n",
       "47999     4983      1258       4  962594133                          Horror\n",
       "\n",
       "[48000 rows x 5 columns]"
      ]
     },
     "execution_count": 7,
     "metadata": {},
     "output_type": "execute_result"
    }
   ],
   "source": [
    "splits[0]"
   ]
  },
  {
   "cell_type": "code",
   "execution_count": 8,
   "metadata": {},
   "outputs": [],
   "source": [
    "top_similarities = []\n",
    "\n",
    "for similarity in similarities:\n",
    "    sorted_similarities = sorted(similarity.items(), key=lambda item: item[1], reverse=True)\n",
    "    top_similarities.append(sorted_similarities[:number_of_top_similarities])"
   ]
  },
  {
   "cell_type": "code",
   "execution_count": 9,
   "metadata": {},
   "outputs": [
    {
     "data": {
      "text/plain": [
       "[[('413', 0.9797958971132712), ('2831', 0.9689627902499088)],\n",
       " [('3619', 1), ('4540', 0.9707253433941511)],\n",
       " [('764', 0.9394421721142376), ('890', 0.9132483825423161)],\n",
       " [('1481', 0.9648363026488435), ('320', 0.9438798074485388)],\n",
       " [('2003', 1), ('5299', 1)],\n",
       " [('1092', 0.9566807697649699), ('4603', 0.938083151964686)],\n",
       " [('3560', 0.9432422182837987), ('2957', 0.9045340337332909)],\n",
       " [('993', 0.890870806374748), ('980', 0.8660254037844387)],\n",
       " [('333', 0.8944271909999159), ('885', 0.8888888888888888)],\n",
       " [('134', 0.8944271909999159), ('2379', 0.8944271909999159)],\n",
       " [('1359', 0.9486832980505138), ('2444', 0.9486832980505138)],\n",
       " [('707', 1), ('4772', 0.9669875568304563)]]"
      ]
     },
     "execution_count": 9,
     "metadata": {},
     "output_type": "execute_result"
    }
   ],
   "source": [
    "top_similarities"
   ]
  },
  {
   "cell_type": "markdown",
   "metadata": {},
   "source": [
    "----------"
   ]
  },
  {
   "cell_type": "code",
   "execution_count": 10,
   "metadata": {},
   "outputs": [],
   "source": [
    "def count_categories_occurrence_in_dataframe(ratings):\n",
    "    categories = {}\n",
    "    for index, row in ratings.iterrows():\n",
    "        for category in row['genres'].split('|'):\n",
    "            if category in categories:\n",
    "                categories[category] += 1\n",
    "            else:\n",
    "                categories[category] = 1\n",
    "    return categories\n",
    "\n",
    "\n",
    "def get_top_n_occurrences(category_occurrence, top):\n",
    "    keys_with_max_value = []\n",
    "    if top is None:\n",
    "        max_value = max(category_occurrence.values())\n",
    "        for key, value in category_occurrence.items():\n",
    "            if value == max_value:\n",
    "                keys_with_max_value.append(key)\n",
    "    else:\n",
    "        for item in range(top):\n",
    "            max_value = max(category_occurrence.values())\n",
    "            for key, value in category_occurrence.items():\n",
    "                if value == max_value:\n",
    "                    keys_with_max_value.append(key)\n",
    "                    category_occurrence.pop(key)\n",
    "                    break\n",
    "    return keys_with_max_value\n"
   ]
  },
  {
   "cell_type": "code",
   "execution_count": 11,
   "metadata": {},
   "outputs": [],
   "source": [
    "def make_recommendation(train_splits, number_of_top_similarities, number_of_newest_ratings, top_n): \n",
    "    recommended_genres = []\n",
    "\n",
    "    # for each split except the last one (the last one is the test set)\n",
    "    for index, split in enumerate(train_splits):\n",
    "\n",
    "        # get the user_id of the user that is most similar to the target user\n",
    "        # top_similarities[][][] -> [index of the split][index of the similarity][0 -> user_id, 1 -> similarity]\n",
    "        user_x = int(number_of_top_similarities[index][0][0])\n",
    "\n",
    "        # get the 5 newest ratings of the user that is most similar to the target user\n",
    "        # sort by timestamp in descending order\n",
    "        user_x_ratings = split.loc[split['user_id'] == user_x].sort_values(by='timestamp', ascending=False)[:number_of_newest_ratings]\n",
    "\n",
    "        categories_occurrence = count_categories_occurrence_in_dataframe(user_x_ratings)\n",
    "\n",
    "        if top_n is None:\n",
    "            keys_with_max_value = get_top_n_occurrences(categories_occurrence, None)\n",
    "        else:\n",
    "            keys_with_max_value = get_top_n_occurrences(categories_occurrence, top_n)\n",
    "        \n",
    "        recommended_genres.append(keys_with_max_value)\n",
    "\n",
    "    return recommended_genres"
   ]
  },
  {
   "cell_type": "code",
   "execution_count": 12,
   "metadata": {},
   "outputs": [
    {
     "data": {
      "text/plain": [
       "[['Drama'],\n",
       " ['Drama'],\n",
       " ['Fantasy', 'Sci-Fi', 'Action', 'Adventure', 'Drama'],\n",
       " ['Drama'],\n",
       " ['ForChildren'],\n",
       " ['Animation', 'Musical'],\n",
       " ['Drama'],\n",
       " ['Comedy'],\n",
       " ['ForChildren', 'Musical'],\n",
       " ['Action'],\n",
       " ['Animation', 'ForChildren']]"
      ]
     },
     "execution_count": 12,
     "metadata": {},
     "output_type": "execute_result"
    }
   ],
   "source": [
    "number_of_newest_ratings = 5\n",
    "\n",
    "recommended_genres = make_recommendation(splits[:-1], top_similarities, number_of_newest_ratings, None)\n",
    "recommended_genres"
   ]
  },
  {
   "cell_type": "code",
   "execution_count": 13,
   "metadata": {},
   "outputs": [
    {
     "data": {
      "text/plain": [
       "{'Animation': 3,\n",
       " 'ForChildren': 3,\n",
       " 'Comedy': 3,\n",
       " 'Adventure': 0,\n",
       " 'Fantasy': 0,\n",
       " 'Romance': 1,\n",
       " 'Drama': 4,\n",
       " 'Action': 0,\n",
       " 'Crime': 0,\n",
       " 'Thriller': 0,\n",
       " 'Horror': 0,\n",
       " 'Sci-Fi': 0,\n",
       " 'Documentary': 0,\n",
       " 'War': 0,\n",
       " 'Musical': 1,\n",
       " 'Mystery': 0,\n",
       " 'Film-Noir': 0,\n",
       " 'Western': 0}"
      ]
     },
     "execution_count": 13,
     "metadata": {},
     "output_type": "execute_result"
    }
   ],
   "source": [
    "# target user\n",
    "sets_of_categories[0]['1']"
   ]
  },
  {
   "cell_type": "code",
   "execution_count": 14,
   "metadata": {},
   "outputs": [
    {
     "data": {
      "text/plain": [
       "{'Animation': 2,\n",
       " 'ForChildren': 2,\n",
       " 'Comedy': 2,\n",
       " 'Adventure': 0,\n",
       " 'Fantasy': 0,\n",
       " 'Romance': 1,\n",
       " 'Drama': 4,\n",
       " 'Action': 0,\n",
       " 'Crime': 0,\n",
       " 'Thriller': 0,\n",
       " 'Horror': 0,\n",
       " 'Sci-Fi': 0,\n",
       " 'Documentary': 0,\n",
       " 'War': 0,\n",
       " 'Musical': 1,\n",
       " 'Mystery': 0,\n",
       " 'Film-Noir': 0,\n",
       " 'Western': 0}"
      ]
     },
     "execution_count": 14,
     "metadata": {},
     "output_type": "execute_result"
    }
   ],
   "source": [
    "# most similar user\n",
    "sets_of_categories[0]['413']"
   ]
  },
  {
   "cell_type": "markdown",
   "metadata": {},
   "source": [
    "--------------------------\n",
    "### Evaluation of the model\n",
    "--------------------------"
   ]
  },
  {
   "cell_type": "markdown",
   "metadata": {},
   "source": [
    "Mean Average Precision MAP@k"
   ]
  },
  {
   "cell_type": "code",
   "execution_count": 15,
   "metadata": {},
   "outputs": [],
   "source": [
    "# author: Ben Hamner\n",
    "# author's github: benhamner\n",
    "# link to github: https://github.com/benhamner/Metrics/blob/master/Python/ml_metrics/average_precision.py \n",
    "\n",
    "def apk(actual, predicted, k=10):\n",
    "    \"\"\"\n",
    "    Computes the average precision at k.\n",
    "\n",
    "    This function computes the average prescision at k between two lists of\n",
    "    items.\n",
    "\n",
    "    Parameters\n",
    "    ----------\n",
    "    actual : list\n",
    "             A list of elements that are to be predicted (order doesn't matter)\n",
    "    predicted : list\n",
    "                A list of predicted elements (order does matter)\n",
    "    k : int, optional\n",
    "        The maximum number of predicted elements\n",
    "\n",
    "    Returns\n",
    "    -------\n",
    "    score : double\n",
    "            The average precision at k over the input lists\n",
    "\n",
    "    \"\"\"\n",
    "    if len(predicted)>k:\n",
    "        predicted = predicted[:k]\n",
    "\n",
    "    score = 0.0\n",
    "    num_hits = 0.0\n",
    "\n",
    "    for i,p in enumerate(predicted):\n",
    "        if p in actual and p not in predicted[:i]:\n",
    "            num_hits += 1.0\n",
    "            score += num_hits / (i+1.0)\n",
    "\n",
    "    if not actual:\n",
    "        return 0.0\n",
    "\n",
    "    return score / min(len(actual), k)\n",
    "\n",
    "def mapk(actual, predicted, k=10):\n",
    "    \"\"\"\n",
    "    Computes the mean average precision at k.\n",
    "\n",
    "    This function computes the mean average prescision at k between two lists\n",
    "    of lists of items.\n",
    "\n",
    "    Parameters\n",
    "    ----------\n",
    "    actual : list\n",
    "             A list of lists of elements that are to be predicted \n",
    "             (order doesn't matter in the lists)\n",
    "    predicted : list\n",
    "                A list of lists of predicted elements\n",
    "                (order matters in the lists)\n",
    "    k : int, optional\n",
    "        The maximum number of predicted elements\n",
    "\n",
    "    Returns\n",
    "    -------\n",
    "    score : double\n",
    "            The mean average precision at k over the input lists\n",
    "\n",
    "    \"\"\"\n",
    "    return np.mean([apk(a,p,k) for a,p in zip(actual, predicted)])"
   ]
  },
  {
   "cell_type": "code",
   "execution_count": 16,
   "metadata": {},
   "outputs": [],
   "source": [
    "def count_categories_occurrence_in_list(recommended_categories):\n",
    "    categories = {}\n",
    "    for split in recommended_categories:\n",
    "        for category in split:\n",
    "            if category in categories:\n",
    "                categories[category] += 1\n",
    "            else:\n",
    "                categories[category] = 1\n",
    "    return categories"
   ]
  },
  {
   "cell_type": "code",
   "execution_count": 17,
   "metadata": {},
   "outputs": [
    {
     "name": "stdout",
     "output_type": "stream",
     "text": [
      "=================================================\n",
      "========== Mean Average Precision @K=1 ==========\n",
      "\n",
      "Top recommended categories in the training set:\n",
      "    ['Drama']\n",
      "Top recommended categories in the testing set:\n",
      "    ['Drama']\n",
      "\n",
      "Mean Average Precision @K=1: 1.000\n",
      "\n",
      "=================================================\n",
      "========== Mean Average Precision @K=2 ==========\n",
      "\n",
      "Top recommended categories in the training set:\n",
      "    ['Drama', 'ForChildren']\n",
      "Top recommended categories in the testing set:\n",
      "    ['Drama', 'Animation']\n",
      "\n",
      "Mean Average Precision @K=2: 0.625\n",
      "\n",
      "=================================================\n",
      "========== Mean Average Precision @K=3 ==========\n",
      "\n",
      "Top recommended categories in the training set:\n",
      "    ['Drama', 'ForChildren', 'Action']\n",
      "Top recommended categories in the testing set:\n",
      "    ['Drama', 'Animation', 'ForChildren']\n",
      "\n",
      "Mean Average Precision @K=3: 0.389\n",
      "\n",
      "=================================================\n",
      "========== Mean Average Precision @K=5 ==========\n",
      "\n",
      "Top recommended categories in the training set:\n",
      "    ['Drama', 'ForChildren', 'Action', 'Animation', 'Musical']\n",
      "Top recommended categories in the testing set:\n",
      "    ['Drama', 'Animation', 'ForChildren', 'Comedy', 'Romance']\n",
      "\n",
      "Mean Average Precision @K=5: 0.224\n",
      "\n",
      "=================================================\n",
      "========== Mean Average Precision @K=7 ==========\n",
      "\n",
      "Top recommended categories in the training set:\n",
      "    ['Drama', 'ForChildren', 'Action', 'Animation', 'Musical', 'Fantasy', 'Sci-Fi']\n",
      "Top recommended categories in the testing set:\n",
      "    ['Drama', 'Animation', 'ForChildren', 'Comedy', 'Romance', 'Action', 'War']\n",
      "\n",
      "Mean Average Precision @K=7: 0.191\n",
      "\n"
     ]
    }
   ],
   "source": [
    "top_n_to_test = [1, 2, 3, 5, 7]\n",
    "\n",
    "for index, top_n in enumerate(top_n_to_test):\n",
    "    print('=================================================')\n",
    "    print(f\"========== Mean Average Precision @K={top_n} ==========\\n\")\n",
    "\n",
    "    category_count = count_categories_occurrence_in_list(recommended_genres)\n",
    "    top_n_recommended_categories = get_top_n_occurrences(category_count, top_n)\n",
    "    print('Top recommended categories in the training set:')\n",
    "    print(f\"    {top_n_recommended_categories}\")\n",
    "\n",
    "    test_split = []\n",
    "    test_split.append(splits[-1])\n",
    "\n",
    "    test_recommended_genres = make_recommendation(test_split, top_similarities, number_of_newest_ratings, top_n)\n",
    "    print('Top recommended categories in the testing set:')\n",
    "    print(f\"    {test_recommended_genres[0]}\")\n",
    "\n",
    "    mean_average_precision_at_k  = mapk(test_recommended_genres[0], top_n_recommended_categories, top_n)\n",
    "    print(f\"\\nMean Average Precision @K={top_n}: {mean_average_precision_at_k:.3f}\\n\")"
   ]
  }
 ],
 "metadata": {
  "kernelspec": {
   "display_name": "dp",
   "language": "python",
   "name": "python3"
  },
  "language_info": {
   "codemirror_mode": {
    "name": "ipython",
    "version": 3
   },
   "file_extension": ".py",
   "mimetype": "text/x-python",
   "name": "python",
   "nbconvert_exporter": "python",
   "pygments_lexer": "ipython3",
   "version": "3.10.12"
  },
  "orig_nbformat": 4
 },
 "nbformat": 4,
 "nbformat_minor": 2
}
