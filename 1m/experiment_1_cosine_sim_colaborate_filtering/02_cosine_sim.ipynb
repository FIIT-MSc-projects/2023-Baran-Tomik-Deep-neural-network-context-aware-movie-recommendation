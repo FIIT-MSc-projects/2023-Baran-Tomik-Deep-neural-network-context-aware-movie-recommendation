{
 "cells": [
  {
   "cell_type": "code",
   "execution_count": 31,
   "metadata": {},
   "outputs": [],
   "source": [
    "from scipy import spatial\n",
    "import pandas as pd\n",
    "import numpy as np\n",
    "import json"
   ]
  },
  {
   "cell_type": "code",
   "execution_count": 32,
   "metadata": {},
   "outputs": [],
   "source": [
    "# depth of this file in the project\n",
    "file_depth = '../..'\n",
    "user_category_file = 'rating_user_data/user_category.json'"
   ]
  },
  {
   "cell_type": "code",
   "execution_count": 33,
   "metadata": {},
   "outputs": [],
   "source": [
    "with open(user_category_file, 'r') as f:\n",
    "  user_category = json.load(f)"
   ]
  },
  {
   "cell_type": "markdown",
   "metadata": {},
   "source": [
    "## Testing cosine similarity"
   ]
  },
  {
   "cell_type": "code",
   "execution_count": 37,
   "metadata": {},
   "outputs": [],
   "source": [
    "target_user_id = 1\n",
    "number_of_top_similarities = 5"
   ]
  },
  {
   "cell_type": "code",
   "execution_count": 40,
   "metadata": {},
   "outputs": [],
   "source": [
    "if type(target_user_id) == int:\n",
    "    target_user_id = str(target_user_id)"
   ]
  },
  {
   "cell_type": "code",
   "execution_count": 41,
   "metadata": {},
   "outputs": [],
   "source": [
    "user1 = list(user_category[target_user_id].values())\n",
    "\n",
    "similarities = {}\n",
    "\n",
    "for user_id, user_data in user_category.items():\n",
    "    if user_id != target_user_id:  # Skip if it's the target user\n",
    "        userx = list(user_data.values())\n",
    "        similarity = 1 - spatial.distance.cosine(user1, userx)\n",
    "        similarities[user_id] = similarity"
   ]
  },
  {
   "cell_type": "code",
   "execution_count": 42,
   "metadata": {},
   "outputs": [
    {
     "data": {
      "text/plain": [
       "[('4767', 0.9732167632942684),\n",
       " ('4877', 0.9622787663594123),\n",
       " ('5346', 0.9558349926129387),\n",
       " ('5887', 0.9540607104819327),\n",
       " ('1481', 0.9459970229111792)]"
      ]
     },
     "execution_count": 42,
     "metadata": {},
     "output_type": "execute_result"
    }
   ],
   "source": [
    "# get top n similarities\n",
    "sorted_similarities = sorted(similarities.items(), key=lambda item: item[1], reverse=True)\n",
    "\n",
    "top_similarities = sorted_similarities[:number_of_top_similarities]\n",
    "top_similarities"
   ]
  },
  {
   "cell_type": "markdown",
   "metadata": {},
   "source": [
    "### Target user"
   ]
  },
  {
   "cell_type": "code",
   "execution_count": 45,
   "metadata": {},
   "outputs": [
    {
     "data": {
      "text/plain": [
       "{'Animation': 14,\n",
       " 'ForChildren': 18,\n",
       " 'Comedy': 11,\n",
       " 'Adventure': 4,\n",
       " 'Fantasy': 3,\n",
       " 'Romance': 3,\n",
       " 'Drama': 21,\n",
       " 'Action': 4,\n",
       " 'Crime': 2,\n",
       " 'Thriller': 2,\n",
       " 'Horror': 0,\n",
       " 'Sci-Fi': 3,\n",
       " 'Documentary': 0,\n",
       " 'War': 2,\n",
       " 'Musical': 12,\n",
       " 'Mystery': 0,\n",
       " 'Film-Noir': 0,\n",
       " 'Western': 0}"
      ]
     },
     "execution_count": 45,
     "metadata": {},
     "output_type": "execute_result"
    }
   ],
   "source": [
    "user_category[target_user_id]"
   ]
  },
  {
   "cell_type": "code",
   "execution_count": 66,
   "metadata": {},
   "outputs": [
    {
     "name": "stdout",
     "output_type": "stream",
     "text": [
      "User with ID 4767 is the MOST similar to the target user with a cosine similarity of 0.9732: \n"
     ]
    },
    {
     "data": {
      "text/plain": [
       "{'Animation': 9,\n",
       " 'ForChildren': 15,\n",
       " 'Comedy': 9,\n",
       " 'Adventure': 2,\n",
       " 'Fantasy': 3,\n",
       " 'Romance': 3,\n",
       " 'Drama': 16,\n",
       " 'Action': 0,\n",
       " 'Crime': 0,\n",
       " 'Thriller': 0,\n",
       " 'Horror': 0,\n",
       " 'Sci-Fi': 1,\n",
       " 'Documentary': 0,\n",
       " 'War': 2,\n",
       " 'Musical': 5,\n",
       " 'Mystery': 0,\n",
       " 'Film-Noir': 0,\n",
       " 'Western': 0}"
      ]
     },
     "execution_count": 66,
     "metadata": {},
     "output_type": "execute_result"
    }
   ],
   "source": [
    "print(f'User with ID {top_similarities[0][0]} is the MOST similar to the target user with a cosine similarity of {top_similarities[0][1]:.4f}: ')\n",
    "user_category[top_similarities[0][0]]"
   ]
  },
  {
   "cell_type": "code",
   "execution_count": 69,
   "metadata": {},
   "outputs": [
    {
     "name": "stdout",
     "output_type": "stream",
     "text": [
      "User with ID 46 is the LEAST similar to the target user with a cosine similarity of 0.0285: \n"
     ]
    },
    {
     "data": {
      "text/plain": [
       "{'Animation': 0,\n",
       " 'ForChildren': 0,\n",
       " 'Comedy': 1,\n",
       " 'Adventure': 1,\n",
       " 'Fantasy': 0,\n",
       " 'Romance': 0,\n",
       " 'Drama': 0,\n",
       " 'Action': 1,\n",
       " 'Crime': 0,\n",
       " 'Thriller': 8,\n",
       " 'Horror': 33,\n",
       " 'Sci-Fi': 0,\n",
       " 'Documentary': 0,\n",
       " 'War': 0,\n",
       " 'Musical': 0,\n",
       " 'Mystery': 3,\n",
       " 'Film-Noir': 0,\n",
       " 'Western': 0}"
      ]
     },
     "execution_count": 69,
     "metadata": {},
     "output_type": "execute_result"
    }
   ],
   "source": [
    "print(f'User with ID {sorted_similarities[:1][0][0]} is the LEAST similar to the target user with a cosine similarity of {sorted_similarities[:1][0][1]:.4f}: ')\n",
    "user_category[sorted_similarities[:1][0][0]]"
   ]
  }
 ],
 "metadata": {
  "kernelspec": {
   "display_name": "dp",
   "language": "python",
   "name": "python3"
  },
  "language_info": {
   "codemirror_mode": {
    "name": "ipython",
    "version": 3
   },
   "file_extension": ".py",
   "mimetype": "text/x-python",
   "name": "python",
   "nbconvert_exporter": "python",
   "pygments_lexer": "ipython3",
   "version": "3.10.12"
  },
  "orig_nbformat": 4
 },
 "nbformat": 4,
 "nbformat_minor": 2
}
