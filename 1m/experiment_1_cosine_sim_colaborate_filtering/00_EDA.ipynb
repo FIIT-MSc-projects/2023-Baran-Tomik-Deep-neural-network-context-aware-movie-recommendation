{
 "cells": [
  {
   "cell_type": "markdown",
   "metadata": {},
   "source": [
    "##### EDA\n",
    "\n",
    "In dataset Movies.csv, change genre Children's to ForChildren (run only once, file is already updated)"
   ]
  },
  {
   "cell_type": "code",
   "execution_count": 9,
   "metadata": {},
   "outputs": [],
   "source": [
    "import pandas as pd\n",
    "import json"
   ]
  },
  {
   "cell_type": "code",
   "execution_count": 10,
   "metadata": {},
   "outputs": [],
   "source": [
    "# depth of this filr in the project\n",
    "file_depth = '../..'\n",
    "\n",
    "with open(file_depth + '/config/data_1m_config.json') as config_file:\n",
    "    config = json.load(config_file)\n",
    "\n",
    "movies_data_path = config['original_csv_movies_data']"
   ]
  },
  {
   "cell_type": "code",
   "execution_count": 11,
   "metadata": {},
   "outputs": [],
   "source": [
    "movies = pd.read_csv(file_depth + movies_data_path)\n",
    "movies\n",
    "\n",
    "movies['genres'] = movies['genres'].str.replace(\"Children's\", \"ForChildren\")"
   ]
  },
  {
   "cell_type": "code",
   "execution_count": 12,
   "metadata": {},
   "outputs": [],
   "source": [
    "movies.to_csv(file_depth + movies_data_path, index=False)"
   ]
  }
 ],
 "metadata": {
  "kernelspec": {
   "display_name": "dp",
   "language": "python",
   "name": "python3"
  },
  "language_info": {
   "codemirror_mode": {
    "name": "ipython",
    "version": 3
   },
   "file_extension": ".py",
   "mimetype": "text/x-python",
   "name": "python",
   "nbconvert_exporter": "python",
   "pygments_lexer": "ipython3",
   "version": "3.10.12"
  },
  "orig_nbformat": 4
 },
 "nbformat": 4,
 "nbformat_minor": 2
}
