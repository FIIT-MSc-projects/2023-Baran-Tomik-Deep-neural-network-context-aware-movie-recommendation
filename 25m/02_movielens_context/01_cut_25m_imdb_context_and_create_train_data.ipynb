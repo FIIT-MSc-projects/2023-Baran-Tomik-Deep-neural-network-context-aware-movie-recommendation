{
 "cells": [
  {
   "cell_type": "markdown",
   "metadata": {},
   "source": [
    "### create no context training data from context - 25 million dataset"
   ]
  },
  {
   "cell_type": "code",
   "execution_count": 1,
   "metadata": {},
   "outputs": [],
   "source": [
    "from sklearn.preprocessing import LabelEncoder, MaxAbsScaler\n",
    "from sklearn.model_selection import train_test_split\n",
    "from joblib import dump\n",
    "import pandas as pd\n",
    "import numpy as np\n",
    "import json"
   ]
  },
  {
   "cell_type": "code",
   "execution_count": 2,
   "metadata": {},
   "outputs": [],
   "source": [
    "# depth of this filr in the project\n",
    "file_depth = '../..'\n",
    "\n",
    "with open(file_depth + '/config/data_25m_config.json') as config_file:\n",
    "    config = json.load(config_file)\n",
    "\n",
    "new_context_data = config['new_context_data']\n",
    "context_data = pd.read_csv(file_depth + new_context_data)\n",
    "context_data"
   ]
  },
  {
   "cell_type": "code",
   "execution_count": null,
   "metadata": {},
   "outputs": [],
   "source": [
    "columns_to_drop = [\n",
    "    'titleType',\n",
    "    'isAdult',\n",
    "    'runtimeMinutes',\n",
    "    'directors',\n",
    "    'actor',\n",
    "    'genreAdult',\n",
    "    'genreBiography',\n",
    "    'genreFamily',\n",
    "    'genreHistory',\n",
    "    'genreImax',\n",
    "    'genreMusic',\n",
    "    'genreNews',\n",
    "    'genreReality-tv',\n",
    "    'genreShort',\n",
    "    'genreSport']\n",
    "\n",
    "movielens_context_data = context_data.drop(columns=columns_to_drop)\n",
    "movielens_context_data"
   ]
  },
  {
   "cell_type": "code",
   "execution_count": null,
   "metadata": {},
   "outputs": [],
   "source": [
    "target_data = config['target_data']\n",
    "target_ratings = pd.read_csv(file_depth + target_data)\n",
    "target_ratings"
   ]
  },
  {
   "cell_type": "code",
   "execution_count": null,
   "metadata": {},
   "outputs": [],
   "source": [
    "movielens_context_data['ratingId'] = context_data.index\n",
    "del context_data\n",
    "movielens_context_data = movielens_context_data.merge(target_ratings, on='ratingId', how='left')\n",
    "del target_data\n",
    "movielens_context_data = movielens_context_data.drop(['ratingId'], axis=1)\n",
    "movielens_context_data"
   ]
  },
  {
   "cell_type": "code",
   "execution_count": null,
   "metadata": {},
   "outputs": [],
   "source": [
    "# Label encode categorical columns\n",
    "categorical_columns = ['holiday']\n",
    "label_encoders = {}\n",
    "\n",
    "for column in categorical_columns:\n",
    "    if column in movielens_context_data.columns.to_list():\n",
    "        print(f\"Column {column} is in context_data\")\n",
    "        label_encoder = LabelEncoder()\n",
    "        movielens_context_data[column] = label_encoder.fit_transform(movielens_context_data[column])\n",
    "        label_encoders[column] = label_encoder\n",
    "\n",
    "movielens_context_data"
   ]
  },
  {
   "cell_type": "code",
   "execution_count": null,
   "metadata": {},
   "outputs": [],
   "source": [
    "train, temp = train_test_split(movielens_context_data, test_size=0.2, random_state=42)\n",
    "val, test = train_test_split(temp, test_size=0.5, random_state=42)"
   ]
  },
  {
   "cell_type": "code",
   "execution_count": null,
   "metadata": {},
   "outputs": [],
   "source": [
    "train_target_ratings = train['rating'].values\n",
    "val_target_ratings = val['rating'].values\n",
    "test_target_ratings = test['rating'].values\n",
    "\n",
    "train_data = train.drop(['rating'], axis=1)\n",
    "val_data = val.drop(['rating'], axis=1)\n",
    "test_data = test.drop(['rating'], axis=1)"
   ]
  },
  {
   "cell_type": "code",
   "execution_count": null,
   "metadata": {},
   "outputs": [],
   "source": [
    "# Standardize columns\n",
    "scaler = MaxAbsScaler()\n",
    "train_data = scaler.fit_transform(train_data)\n",
    "val_data = scaler.fit_transform(val_data)\n",
    "test_data = scaler.fit_transform(test_data)"
   ]
  },
  {
   "cell_type": "code",
   "execution_count": null,
   "metadata": {},
   "outputs": [],
   "source": [
    "# Save the data to disk\n",
    "\n",
    "training_data_path = config['training_data'] \n",
    "folder = 'data_25m/movielens_context_max_abs_scaler/'\n",
    "\n",
    "\n",
    "dump(scaler, file_depth + training_data_path + folder + \"25m_movielens_context_scaler.pkl\")\n",
    "\n",
    "\n",
    "for column in categorical_columns:\n",
    "    try:\n",
    "        if label_encoders[column] != {}:\n",
    "            dump(label_encoders[column], file_depth + training_data_path + folder + f\"{column}_label_encoder.pkl\")\n",
    "    except KeyError:\n",
    "        pass\n",
    "\n",
    "np.save(file_depth + training_data_path + folder + \"train_data.npy\", train_data)\n",
    "np.save(file_depth + training_data_path + folder + \"val_data.npy\", val_data)\n",
    "np.save(file_depth + training_data_path + folder + \"test_data.npy\", test_data)\n",
    "np.save(file_depth + training_data_path + folder + \"train_target_ratings.npy\", train_target_ratings)\n",
    "np.save(file_depth + training_data_path + folder + \"val_target_ratings.npy\", val_target_ratings)\n",
    "np.save(file_depth + training_data_path + folder + \"test_target_ratings.npy\", test_target_ratings)"
   ]
  },
  {
   "cell_type": "markdown",
   "metadata": {},
   "source": [
    "-----\n",
    "#### Same stuff but more memory efficient"
   ]
  },
  {
   "cell_type": "code",
   "execution_count": null,
   "metadata": {},
   "outputs": [],
   "source": [
    "train, temp = train_test_split(movielens_context_data, test_size=0.2, random_state=42)\n",
    "del movielens_context_data\n",
    "val, test = train_test_split(temp, test_size=0.5, random_state=42)\n",
    "del temp"
   ]
  },
  {
   "cell_type": "code",
   "execution_count": null,
   "metadata": {},
   "outputs": [],
   "source": [
    "test.to_csv('test_split_25ml_movielens_context.csv', index=False)"
   ]
  },
  {
   "cell_type": "code",
   "execution_count": null,
   "metadata": {},
   "outputs": [],
   "source": [
    "scaler = MaxAbsScaler()\n",
    "training_data_path = config['training_data'] \n",
    "folder = 'data_25m/movielens_context_max_abs_scaler/'"
   ]
  },
  {
   "cell_type": "code",
   "execution_count": null,
   "metadata": {},
   "outputs": [],
   "source": [
    "val_target_ratings = val['rating'].values\n",
    "val_data = val.drop(['rating'], axis=1)\n",
    "del val\n",
    "val_data = scaler.fit_transform(val_data)\n",
    "np.save(file_depth + training_data_path + folder + \"val_data.npy\", val_data)\n",
    "del val_data\n",
    "np.save(file_depth + training_data_path + folder + \"val_target_ratings.npy\", val_target_ratings)\n",
    "del val_target_ratings"
   ]
  },
  {
   "cell_type": "code",
   "execution_count": null,
   "metadata": {},
   "outputs": [],
   "source": [
    "test_target_ratings = test['rating'].values\n",
    "test_data = test.drop(['rating'], axis=1)\n",
    "del test\n",
    "test_data = scaler.fit_transform(test_data)\n",
    "np.save(file_depth + training_data_path + folder + \"test_data.npy\", test_data)\n",
    "del test_data\n",
    "np.save(file_depth + training_data_path + folder + \"test_target_ratings.npy\", test_target_ratings)\n",
    "del test_target_ratings"
   ]
  },
  {
   "cell_type": "code",
   "execution_count": null,
   "metadata": {},
   "outputs": [],
   "source": [
    "train_target_ratings = train['rating'].values\n",
    "train_data = train.drop(['rating'], axis=1)\n",
    "del train\n",
    "train_data = scaler.fit_transform(train_data)\n",
    "np.save(file_depth + training_data_path + folder + \"train_data.npy\", train_data)\n",
    "del train_data\n",
    "np.save(file_depth + training_data_path + folder + \"train_target_ratings.npy\", train_target_ratings)\n",
    "del train_target_ratings"
   ]
  },
  {
   "cell_type": "code",
   "execution_count": null,
   "metadata": {},
   "outputs": [],
   "source": [
    "dump(scaler, file_depth + training_data_path + folder + \"25m_movielens_context_scaler.pkl\")\n",
    "\n",
    "for column in categorical_columns:\n",
    "    try:\n",
    "        if label_encoders[column] != {}:\n",
    "            dump(label_encoders[column], file_depth + training_data_path + folder + f\"{column}_label_encoder.pkl\")\n",
    "    except KeyError:\n",
    "        pass"
   ]
  }
 ],
 "metadata": {
  "kernelspec": {
   "display_name": "dp",
   "language": "python",
   "name": "python3"
  },
  "language_info": {
   "codemirror_mode": {
    "name": "ipython",
    "version": 3
   },
   "file_extension": ".py",
   "mimetype": "text/x-python",
   "name": "python",
   "nbconvert_exporter": "python",
   "pygments_lexer": "ipython3",
   "version": "3.10.12"
  }
 },
 "nbformat": 4,
 "nbformat_minor": 2
}
