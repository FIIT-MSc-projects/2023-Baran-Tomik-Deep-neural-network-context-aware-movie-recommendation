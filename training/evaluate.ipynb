{
 "cells": [
  {
   "cell_type": "markdown",
   "metadata": {},
   "source": [
    "#### evaluate trained models"
   ]
  },
  {
   "cell_type": "code",
   "execution_count": 1,
   "metadata": {},
   "outputs": [
    {
     "name": "stderr",
     "output_type": "stream",
     "text": [
      "d:\\.exe\\miniconda\\envs\\dp\\lib\\site-packages\\h5py\\__init__.py:36: UserWarning: h5py is running against HDF5 1.12.2 when it was built against 1.12.1, this may cause problems\n",
      "  _warn((\"h5py is running against HDF5 {0} when it was built against {1}, \"\n"
     ]
    }
   ],
   "source": [
    "from keras.models import load_model\n",
    "import pandas as pd\n",
    "import numpy as np\n",
    "# import tensorflow as tf"
   ]
  },
  {
   "cell_type": "code",
   "execution_count": 2,
   "metadata": {},
   "outputs": [],
   "source": [
    "trained_model_filepath = 'trained_models/'\n",
    "\n",
    "training_data_path = 'data_25m/'\n",
    "lstm_training_data_path = 'data_1m/lstm_data/'\n",
    "\n",
    "### run_names_dense[index] was trained on data in folder run_names_dense_corresponding_data[index]\n",
    "# run_names_dense = ['arch4_fs_l1_trained', 'arch4_fs_lr_trained', 'arch4_fs_mi_trained']\n",
    "# run_names_dense_corresponding_data = ['l1_context_data', 'lr_context_data', 'mi_context_data']\n",
    "run_names_dense = ['arch5_25m_added_imdb_context_trained']\n",
    "run_names_dense_corresponding_data = ['added_imdb_context']\n",
    "\n",
    "\n",
    "# run_names_LSTM = ['arch2_lstm_1', 'arch2_lstm_lrSchedule_1', 'arch2_lstm_lrSchedule_2', 'arch3_bidir_lstm_lrSchedule_noReLU_1']"
   ]
  },
  {
   "cell_type": "code",
   "execution_count": 3,
   "metadata": {},
   "outputs": [],
   "source": [
    "def evaluate(run_name, training_data):\n",
    "    try:\n",
    "        test_data = np.load(training_data + 'test_data.npy')\n",
    "        test_target_ratings = np.load(training_data + 'test_target_ratings.npy')\n",
    "\n",
    "        print('\\n*******************************************************************************************')\n",
    "        print('*******************************************************************************************')\n",
    "        print(f\"\\n[[ Evaluating model: {run_name} ]]\\n\")\n",
    "        # print('*****************************************************************\\n')\n",
    "\n",
    "    except OSError as e:\n",
    "        print('\\nERROR loading testing data')\n",
    "        quit()\n",
    "\n",
    "    try:\n",
    "        my_model = load_model(trained_model_filepath + run_name + '.keras', compile=True)\n",
    "        my_model.summary()\n",
    "    except OSError as e:\n",
    "        print('\\nERROR loading trained model to evaluate')\n",
    "        quit()\n",
    "\n",
    "    try:\n",
    "        print(\"\\nEvaluate on test data\")\n",
    "        test_loss, test_mean_squared_error, test_mean_absolute_error, test_r2 = my_model.evaluate(test_data, test_target_ratings)\n",
    "        print(\"Test_loss:\", test_loss)\n",
    "        print(\"Test_root_mean_squared_error:\", test_mean_squared_error)\n",
    "        print(\"Test_mean_absolute_error:\", test_mean_absolute_error)\n",
    "        print(\"Test_r2:\", test_r2)\n",
    "        print('\\n')\n",
    "\n",
    "        print(\"Generate predictions for 10 samples\")\n",
    "        predictions = my_model.predict(test_data)\n",
    "        test_y_comparison = pd.DataFrame({'test_y_true': test_target_ratings, 'test_y_pred': [x for x in predictions]})\n",
    "\n",
    "        print(test_y_comparison.head(10))\n",
    "    except OSError as e:\n",
    "        print('\\nERROR evaluating model')\n",
    "        quit()\n"
   ]
  },
  {
   "cell_type": "code",
   "execution_count": 5,
   "metadata": {},
   "outputs": [
    {
     "name": "stdout",
     "output_type": "stream",
     "text": [
      "\n",
      "*******************************************************************************************\n",
      "*******************************************************************************************\n",
      "\n",
      "[[ Evaluating model: arch5_25m_added_imdb_context_trained ]]\n",
      "\n",
      "Model: \"sequential\"\n",
      "_________________________________________________________________\n",
      " Layer (type)                Output Shape              Param #   \n",
      "=================================================================\n",
      " dense (Dense)               (None, 512)               21504     \n",
      "                                                                 \n",
      " activation (Activation)     (None, 512)               0         \n",
      "                                                                 \n",
      " dropout (Dropout)           (None, 512)               0         \n",
      "                                                                 \n",
      " flatten (Flatten)           (None, 512)               0         \n",
      "                                                                 \n",
      " dense_1 (Dense)             (None, 512)               262656    \n",
      "                                                                 \n",
      " activation_1 (Activation)   (None, 512)               0         \n",
      "                                                                 \n",
      " dropout_1 (Dropout)         (None, 512)               0         \n",
      "                                                                 \n",
      " dense_2 (Dense)             (None, 512)               262656    \n",
      "                                                                 \n",
      " activation_2 (Activation)   (None, 512)               0         \n",
      "                                                                 \n",
      " dropout_2 (Dropout)         (None, 512)               0         \n",
      "                                                                 \n",
      " dense_3 (Dense)             (None, 256)               131328    \n",
      "                                                                 \n",
      " activation_3 (Activation)   (None, 256)               0         \n",
      "                                                                 \n",
      " dropout_3 (Dropout)         (None, 256)               0         \n",
      "                                                                 \n",
      " dense_4 (Dense)             (None, 256)               65792     \n",
      "                                                                 \n",
      " activation_4 (Activation)   (None, 256)               0         \n",
      "                                                                 \n",
      " dropout_4 (Dropout)         (None, 256)               0         \n",
      "                                                                 \n",
      " dense_5 (Dense)             (None, 1)                 257       \n",
      "                                                                 \n",
      "=================================================================\n",
      "Total params: 744193 (2.84 MB)\n",
      "Trainable params: 744193 (2.84 MB)\n",
      "Non-trainable params: 0 (0.00 Byte)\n",
      "_________________________________________________________________\n",
      "\n",
      "Evaluate on test data\n",
      "78074/78074 [==============================] - 237s 3ms/step - loss: 0.9795 - root_mean_squared_error: 0.9897 - mean_absolute_error: 0.7754 - r2_score: 0.1303\n",
      "Test_loss: 0.9795030355453491\n",
      "Test_root_mean_squared_error: 0.9896984696388245\n",
      "Test_mean_absolute_error: 0.7754332423210144\n",
      "Test_r2: 0.13027799129486084\n",
      "\n",
      "\n",
      "Generate predictions for 10 samples\n",
      "78074/78074 [==============================] - 208s 3ms/step\n",
      "   test_y_true  test_y_pred\n",
      "0          4.0   [3.478671]\n",
      "1          4.5  [3.7253957]\n",
      "2          2.5  [3.1143894]\n",
      "3          4.5   [3.632454]\n",
      "4          3.5  [3.9638608]\n",
      "5          3.5   [3.478671]\n",
      "6          3.0   [3.478671]\n",
      "7          3.0  [3.1838477]\n",
      "8          4.0   [4.007459]\n",
      "9          1.5   [3.478671]\n"
     ]
    }
   ],
   "source": [
    "for i in range(len(run_names_dense)):\n",
    "    evaluate(run_names_dense[i], training_data_path + run_names_dense_corresponding_data[i] + '/')"
   ]
  }
 ],
 "metadata": {
  "kernelspec": {
   "display_name": "dp",
   "language": "python",
   "name": "python3"
  },
  "language_info": {
   "codemirror_mode": {
    "name": "ipython",
    "version": 3
   },
   "file_extension": ".py",
   "mimetype": "text/x-python",
   "name": "python",
   "nbconvert_exporter": "python",
   "pygments_lexer": "ipython3",
   "version": "3.10.12"
  },
  "orig_nbformat": 4
 },
 "nbformat": 4,
 "nbformat_minor": 2
}
